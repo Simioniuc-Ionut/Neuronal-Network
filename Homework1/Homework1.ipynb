{
 "cells": [
  {
   "metadata": {},
   "cell_type": "markdown",
   "source": [
    "2x+3y−z=5 \n",
    "x−y+4z=6 \n",
    "3x+y+2z=7\n",
    "\n",
    "A⋅X=B \n",
    "where:\n",
    "    2  3 −1\n",
    "A = 1 −1  4\n",
    "    3  1  2\n",
    "    x       5\n",
    "X = y   B = 6\n",
    "    z       7\n",
    "   \n"
   ],
   "id": "7caada2cc76135f1"
  },
  {
   "metadata": {},
   "cell_type": "markdown",
   "source": [
    "# 1. Parsing txt\n",
    "# First step is to parse the content of file"
   ],
   "id": "37490dfe6d34b54c"
  },
  {
   "metadata": {
    "ExecuteTime": {
     "end_time": "2024-10-14T13:16:43.261096Z",
     "start_time": "2024-10-14T13:16:43.226478Z"
    }
   },
   "cell_type": "code",
   "source": [
    "import pathlib\n",
    "\n",
    "def load_file(path: pathlib.Path) -> tuple[list[list[int]] , list[int]]:\n",
    "    content = path.read_text() # read text\n",
    "    print(content)\n",
    "    lines = content.split('\\n')\n",
    "    A = [[0,0,0] for i in range(0,len(lines))]\n",
    "    B = [0 for _ in range(0,len(lines))]\n",
    "    index_line=0\n",
    "    for line in lines:\n",
    "        for char in range(0,len(line)):\n",
    "            position = char -1\n",
    "            var = -2\n",
    "            if line[char] == 'x':\n",
    "                var= 0\n",
    "            elif line[char] == 'y':\n",
    "                var=1\n",
    "            elif line[char] == 'z':\n",
    "                var=2\n",
    "            elif line[char] == '=':\n",
    "                var=-1\n",
    "                \n",
    "            if var >= 0:  # if var is not -2 then we have a variable  \n",
    "                if char == 0:\n",
    "                    nr = 1 \n",
    "                elif char-2 >=0 and line[char - 1] == ' ' and line[char - 2] == '-':\n",
    "                    #print(line[position])\n",
    "                    nr=-1\n",
    "                elif char-2 >= 0 and line[char - 2] == '-':\n",
    "                    #print(line[position])\n",
    "                    nr=-int(line[position])\n",
    "                else:\n",
    "                    if line[char - 1] != ' ':\n",
    "                        #print(line[position])\n",
    "                        nr=int(line[position])\n",
    "                    else:\n",
    "                        #print(1)\n",
    "                        nr=1\n",
    "            elif var == -1: # = case\n",
    "                if line[char+2] == '-':\n",
    "                    nr = -int(line[char+3])\n",
    "                else:\n",
    "                    nr = int(line[char+2])     \n",
    "            if var != -1 and var != -2:\n",
    "                A[index_line][var] = nr\n",
    "            elif var != -2 and var == -1:\n",
    "                # Result\n",
    "                B[index_line] = nr\n",
    "        index_line+=1        \n",
    "    \n",
    "    return A , B\n",
    "    \n",
    "\n",
    "path =  pathlib.Path('in.txt')\n",
    "A, B = load_file(path)\n",
    "print(A , B)"
   ],
   "id": "fda82b50d2bf7f93",
   "outputs": [
    {
     "name": "stdout",
     "output_type": "stream",
     "text": [
      "2x + 3y - z = 5\n",
      "x - y + 4z = 6\n",
      "3x + y + 2z = 7\n",
      "[[2, 3, -1], [1, -1, 4], [3, 1, 2]] [5, 6, 7]\n"
     ]
    }
   ],
   "execution_count": 10
  },
  {
   "metadata": {},
   "cell_type": "markdown",
   "source": " # 2. Matrix and Vector Operations (5 points)\n",
   "id": "db11eeb736f94d69"
  },
  {
   "metadata": {},
   "cell_type": "markdown",
   "source": [
    "## 2.1 Determinant Function\n",
    "\n",
    "### Write a function to compute the determinant of matrix \\( A \\). Recall one of the formulae for the determinant of a \\( 3 \\times 3 \\) matrix:\n",
    "\n",
    "$$\n",
    "\\text{det}(A) = a_{11}(a_{22}a_{33} - a_{23}a_{32}) - a_{12}(a_{21}a_{33} - a_{23}a_{31}) + a_{13}(a_{21}a_{32} - a_{22}a_{31})\n",
    "$$"
   ],
   "id": "de916b1da575f48e"
  },
  {
   "metadata": {
    "ExecuteTime": {
     "end_time": "2024-10-14T13:16:43.286063Z",
     "start_time": "2024-10-14T13:16:43.270716Z"
    }
   },
   "cell_type": "code",
   "source": [
    "\n",
    "path =  pathlib.Path('in.txt')\n",
    "A, B = load_file(path)\n",
    "print(A , B)\n",
    "\n",
    "def determinant(matrix: list[list[float]]) -> float:\n",
    "    row = len(matrix)\n",
    "    \n",
    "    if row == 2:\n",
    "        return matrix[0][0] * matrix[1][1] - matrix[0][1] * matrix[1][0]\n",
    "    \n",
    "    return (matrix[0][0] * (matrix[1][1] * matrix[2][2] - matrix[1][2] * matrix[2][1]) -\n",
    "            matrix[0][1] * (matrix[1][0] * matrix[2][2] - matrix[1][2] * matrix[2][0]) +\n",
    "            matrix[0][2] * (matrix[1][0] * matrix[2][1] - matrix[1][1] * matrix[2][0]))\n",
    "\n",
    "print (determinant(A))"
   ],
   "id": "cce39ad8ce9529dd",
   "outputs": [
    {
     "name": "stdout",
     "output_type": "stream",
     "text": [
      "2x + 3y - z = 5\n",
      "x - y + 4z = 6\n",
      "3x + y + 2z = 7\n",
      "[[2, 3, -1], [1, -1, 4], [3, 1, 2]] [5, 6, 7]\n",
      "14\n"
     ]
    }
   ],
   "execution_count": 11
  },
  {
   "metadata": {},
   "cell_type": "markdown",
   "source": [
    "## 2.2 Trace\n",
    "Compute the sum of the elements along the main diagonal of matrix $A$. For a matrix $A$, this is:\n",
    "$$ \\text{Trace}(A) = a_{11} + a_{22} + a_{33} $$"
   ],
   "id": "b1b2d47bfc42c213"
  },
  {
   "metadata": {},
   "cell_type": "markdown",
   "source": "",
   "id": "926b508cb49f6f0a"
  },
  {
   "metadata": {
    "ExecuteTime": {
     "end_time": "2024-10-14T13:16:43.311764Z",
     "start_time": "2024-10-14T13:16:43.302934Z"
    }
   },
   "cell_type": "code",
   "source": [
    "def trace(matrix: list[list[float]]) -> float:\n",
    "    row = len(matrix)\n",
    "    trace = 0\n",
    "    for i in range(0,row):\n",
    "        trace += matrix[i][i]\n",
    "    return trace\n",
    "\n",
    "print(trace(A))"
   ],
   "id": "32e6f27358a0c1d5",
   "outputs": [
    {
     "name": "stdout",
     "output_type": "stream",
     "text": [
      "3\n"
     ]
    }
   ],
   "execution_count": 12
  },
  {
   "metadata": {},
   "cell_type": "markdown",
   "source": [
    "## 2.3. Vector norm\n",
    "Compute the Euclidean norm of vector $B$, which is:\n",
    "$$ ||B|| = \\sqrt{b_1^2 + b_2^2 + b_3^2} $$"
   ],
   "id": "13e4ed8620cc33b9"
  },
  {
   "metadata": {
    "ExecuteTime": {
     "end_time": "2024-10-14T13:16:43.369861Z",
     "start_time": "2024-10-14T13:16:43.361851Z"
    }
   },
   "cell_type": "code",
   "source": [
    "def norm(vector: list[float]) -> float:\n",
    "    norm = 0\n",
    "    for i in range(0,len(vector)):\n",
    "        norm += vector[i]**2\n",
    "    return norm**0.5\n",
    "print(norm(B))"
   ],
   "id": "dd42da3cad129286",
   "outputs": [
    {
     "name": "stdout",
     "output_type": "stream",
     "text": [
      "10.488088481701515\n"
     ]
    }
   ],
   "execution_count": 13
  },
  {
   "metadata": {},
   "cell_type": "markdown",
   "source": [
    "## 2.4. Transpose of matrix\n",
    "Write a function to compute the transpose of matrix $A$. The transpose of a matrix $A$ is obtained by swapping its rows and columns."
   ],
   "id": "1083fcb467177b60"
  },
  {
   "metadata": {
    "ExecuteTime": {
     "end_time": "2024-10-14T13:16:43.401213Z",
     "start_time": "2024-10-14T13:16:43.393557Z"
    }
   },
   "cell_type": "code",
   "source": [
    "def transpose(matrix: list[list[float]]) -> list[list[float]]:\n",
    "    # row = len(matrix)\n",
    "    # col = len(matrix[0])\n",
    "    # new_matrix = [[0 for i in range(0,row)] for j in range(0,col)]\n",
    "    # for i in range(0,row):\n",
    "    #     for j in range(i,col):\n",
    "    #         new_matrix[i][j], new_matrix[j][i] = matrix[j][i], matrix[i][j]\n",
    "    # \n",
    "    # return new_matrix\n",
    "    return [row for row in zip(*matrix)]\n",
    "print(A)\n",
    "print(transpose(A))"
   ],
   "id": "1e562327cb46ca6",
   "outputs": [
    {
     "name": "stdout",
     "output_type": "stream",
     "text": [
      "[[2, 3, -1], [1, -1, 4], [3, 1, 2]]\n",
      "[(2, 1, 3), (3, -1, 1), (-1, 4, 2)]\n"
     ]
    }
   ],
   "execution_count": 14
  },
  {
   "metadata": {
    "ExecuteTime": {
     "end_time": "2024-10-14T13:16:43.487213Z",
     "start_time": "2024-10-14T13:16:43.482351Z"
    }
   },
   "cell_type": "code",
   "source": "",
   "id": "444214fd928f178",
   "outputs": [],
   "execution_count": 14
  },
  {
   "metadata": {},
   "cell_type": "markdown",
   "source": [
    "## 2.5. Matrix-vector multiplication\n",
    "Write a function that multiplies matrix $A$ with vector $B$."
   ],
   "id": "d2b80edd652a6a43"
  },
  {
   "metadata": {
    "ExecuteTime": {
     "end_time": "2024-10-14T13:16:43.530088Z",
     "start_time": "2024-10-14T13:16:43.518432Z"
    }
   },
   "cell_type": "code",
   "source": [
    "def multiplication_matrix_vector(matrix: list[list[float]] , vector: list[float]) -> list[float]:\n",
    "    row = len(matrix)\n",
    "    col = len(matrix[0])\n",
    "    new_vec = [0 for _ in range(0,row)]\n",
    "    for i in range(0,row):\n",
    "        sum = 0\n",
    "        for j in range(0,col):\n",
    "            sum += matrix[i][j] * vector[j]\n",
    "        new_vec[i] = sum  \n",
    "    return new_vec\n",
    "\n",
    "print(f\"A= {A} : B={B}\")\n",
    "\n",
    "print(f\"{multiplication_matrix_vector(A, B)=}\")"
   ],
   "id": "35ec26ae1567fa05",
   "outputs": [
    {
     "name": "stdout",
     "output_type": "stream",
     "text": [
      "A= [[2, 3, -1], [1, -1, 4], [3, 1, 2]] : B=[5, 6, 7]\n",
      "multiplication_matrix_vector(A, B)=[21, 27, 35]\n"
     ]
    }
   ],
   "execution_count": 15
  },
  {
   "metadata": {},
   "cell_type": "markdown",
   "source": [
    "### **3. Solving using Cramer's Rule (1 point)**\n",
    "Now that you have explored basic matrix operations, solve the system of linear equations using Cramer's rule.\n",
    "\n",
    "**Cramer's Rule:**\n",
    "\n",
    "Cramer's rule allows you to solve for each unknown $x$, $y$, and $z$ using determinants. For example:\n",
    "$$ x = \\frac{\\text{det}(A_x)}{\\text{det}(A)}, \\quad y = \\frac{\\text{det}(A_y)}{\\text{det}(A)}, \\quad z = \\frac{\\text{det}(A_z)}{\\text{det}(A)} $$\n",
    "where $A_x$, $A_y$, and $A_z$ are matrices formed by replacing the respective column of matrix $A$ with vector $B$."
   ],
   "id": "6861e3e1f018ec78"
  },
  {
   "metadata": {
    "ExecuteTime": {
     "end_time": "2024-10-14T13:16:43.611483Z",
     "start_time": "2024-10-14T13:16:43.599843Z"
    }
   },
   "cell_type": "code",
   "source": [
    "def A_i_matrix(matrix,index_column,vector):\n",
    "   a_i_matrix = [row[:] for row in matrix]  # Create a copy of the matrix to avoid changing the original matrix\n",
    "   for i in range(len(matrix)):\n",
    "    a_i_matrix[i][index_column] = vector[i]\n",
    "   print(\"A \",matrix)\n",
    "   return a_i_matrix   \n",
    "\n",
    "def solve_cramer(matrix: list[list[float]], vector: list[float]) -> list[float]:\n",
    "    # Replace column in matrix with vector\n",
    "    Ax_Matrix = A_i_matrix(matrix,0,vector)\n",
    "    # print(Ax_Matrix)\n",
    "    Ay_Matrix = A_i_matrix(matrix,1,vector)\n",
    "    # print(Ay_Matrix)\n",
    "    Az_Matrix = A_i_matrix(matrix,2,vector)\n",
    "    # print(Az_Matrix)\n",
    "    det_A = determinant(matrix)\n",
    "    # print(det_A)\n",
    "    if det_A == 0:\n",
    "        return \"Determinant is 0\"\n",
    "    x = determinant(Ax_Matrix) / det_A\n",
    "    y = determinant(Ay_Matrix) / det_A\n",
    "    z = determinant(Az_Matrix) / det_A\n",
    "    \n",
    "    return [x,y,z]\n",
    "# print(A)\n",
    "# print(B)\n",
    "print(solve_cramer(A,B))\n",
    "    "
   ],
   "id": "4732e604c3f66506",
   "outputs": [
    {
     "name": "stdout",
     "output_type": "stream",
     "text": [
      "A  [[2, 3, -1], [1, -1, 4], [3, 1, 2]]\n",
      "A  [[2, 3, -1], [1, -1, 4], [3, 1, 2]]\n",
      "A  [[2, 3, -1], [1, -1, 4], [3, 1, 2]]\n",
      "[0.35714285714285715, 2.0714285714285716, 1.9285714285714286]\n"
     ]
    }
   ],
   "execution_count": 16
  },
  {
   "metadata": {},
   "cell_type": "markdown",
   "source": [
    "### **4. Solving using Inversion **\n",
    "Finally, solve the system by computing the inverse of matrix $A$ and multiplying it by vector $B$.\n",
    "$$ A \\cdot X = B \\rightarrow X = A^{-1} \\cdot B $$\n",
    "**Adjugate Method for Matrix Inversion:**\n",
    "\n",
    "To find the inverse of matrix $ A $, you can use the adjugate method:\n",
    "$$ A^{-1} = \\frac{1}{\\text{det}(A)} \\times \\text{adj}(A) $$\n",
    "where $\\text{adj}(A)$ is the adjugate (or adjoint) matrix, which is the transpose of the cofactor matrix of $ A $.\n",
    "\n",
    "**Cofactor Matrix:**\n",
    "\n",
    "The cofactor matrix is a matrix where each element is replaced by its cofactor. The cofactor of an element $a_{ij}$ is given by:\n",
    "$$ (-1)^{i+j} \\times \\text{det}(M_{ij}) $$\n",
    "where $M_{ij}$ is the minor of element $a_{ij}$, which is the matrix obtained by removing the $i$-th row and $j$-th column from matrix $A$.\n"
   ],
   "id": "c296f8e9e9808f89"
  },
  {
   "metadata": {
    "ExecuteTime": {
     "end_time": "2024-10-14T13:16:43.649394Z",
     "start_time": "2024-10-14T13:16:43.632146Z"
    }
   },
   "cell_type": "code",
   "source": [
    "def minor(matrix: list[list[float]], i: float, j: float) -> list[list[float]]:\n",
    "    M_matrix = []\n",
    "    for row in range(len(matrix)):\n",
    "        if row == i:\n",
    "            continue\n",
    "        new_row = []\n",
    "        for col in range(len(matrix[0])):\n",
    "            if col == j:\n",
    "                continue\n",
    "            new_row.append(matrix[row][col])\n",
    "        M_matrix.append(new_row)\n",
    "    return M_matrix\n",
    "\n",
    "print(minor(A,0,0))\n",
    "\n",
    "def cofactor(matrix: list[list[float]]) -> list[list[float]]:\n",
    "    adj_A = []\n",
    "    for i in range(0, len(matrix)):\n",
    "        new_row = []\n",
    "        for j in range(0, len(matrix[0])):\n",
    "            M_ij =minor(matrix,i,j)\n",
    "            new_row.append((-1)**(i+j) * determinant(M_ij))\n",
    "        adj_A.append(new_row)\n",
    "    # print(\"Cofactor\" , adj_A)\n",
    "    return adj_A \n",
    "        \n",
    "\n",
    "def adjoint(matrix: list[list[float]]) -> list[list[float]]:\n",
    "    return transpose(cofactor(matrix))\n",
    "\n",
    "print(adjoint(A))\n",
    "def solve(matrix: list[list[float]], vector: list[float]) -> list[float]:\n",
    "    det_A = determinant(matrix)\n",
    "    # print(det_A)\n",
    "    if det_A == 0:\n",
    "        raise ValueError(\"The determinant is zero, the matrix is not invertible.\")\n",
    "    adj_A = adjoint(matrix)\n",
    "    # print(adj_A)\n",
    "    A_inv = [[adj_A[i][j] / det_A for j in range(len(adj_A[0]))] for i in range(len(adj_A))]\n",
    "    # print(\"inv\", A_inv)\n",
    "    X = multiplication_matrix_vector(A_inv, vector)\n",
    "    # print(\"multiply A_inv with B\",X)\n",
    "    return X\n",
    "print(\"A,B\" , A,B)\n",
    "print(f\"{solve(A, B)=}\")"
   ],
   "id": "7c66101db051114b",
   "outputs": [
    {
     "name": "stdout",
     "output_type": "stream",
     "text": [
      "[[-1, 4], [1, 2]]\n",
      "[(-6, -7, 11), (10, 7, -9), (4, 7, -5)]\n",
      "A,B [[2, 3, -1], [1, -1, 4], [3, 1, 2]] [5, 6, 7]\n",
      "solve(A, B)=[0.35714285714285765, 2.071428571428571, 1.9285714285714288]\n"
     ]
    }
   ],
   "execution_count": 17
  }
 ],
 "metadata": {
  "kernelspec": {
   "display_name": "Python 3",
   "language": "python",
   "name": "python3"
  },
  "language_info": {
   "codemirror_mode": {
    "name": "ipython",
    "version": 2
   },
   "file_extension": ".py",
   "mimetype": "text/x-python",
   "name": "python",
   "nbconvert_exporter": "python",
   "pygments_lexer": "ipython2",
   "version": "2.7.6"
  }
 },
 "nbformat": 4,
 "nbformat_minor": 5
}
