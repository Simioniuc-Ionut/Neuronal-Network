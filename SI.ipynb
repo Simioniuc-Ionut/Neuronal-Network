{
 "cells": [
  {
   "metadata": {},
   "cell_type": "markdown",
   "source": "",
   "id": "7dfbb9cfa2616f63"
  },
  {
   "metadata": {},
   "cell_type": "markdown",
   "source": "putem solutiona conform alg \"birth\" in functie de n = nr biti , 2^(n/2) iteratii",
   "id": "418ac6c8f5190dbd"
  },
  {
   "metadata": {
    "ExecuteTime": {
     "end_time": "2024-11-07T08:07:03.717442Z",
     "start_time": "2024-11-07T08:07:03.713945Z"
    }
   },
   "cell_type": "code",
   "source": [
    "import hashlib\n",
    "# Function to calculate a 40-bit hash\n",
    "def calculate_40bit_hash(message):\n",
    "    # sha1 generate a 160 bit hash,we need to truncate it to 40 bits\n",
    "    sha1_hash = hashlib.sha1(message.encode()).hexdigest()\n",
    "    \n",
    "    # Truncate to 40 bits (10 hex characters)\n",
    "    return sha1_hash[:10]"
   ],
   "id": "f45edfa0b8f5bfc4",
   "outputs": [],
   "execution_count": 6
  },
  {
   "metadata": {
    "ExecuteTime": {
     "end_time": "2024-11-07T08:07:03.747349Z",
     "start_time": "2024-11-07T08:07:03.728935Z"
    }
   },
   "cell_type": "code",
   "source": [
    "def birthday_attack():\n",
    "    # Create a dictionary to store the hash values\n",
    "    hash_values = {}\n",
    "    attempts = 0\n",
    "    \n",
    "    while attempts < 2**20:\n",
    "        message = str(random.randint(0, 2**40))\n",
    "        hash_val = calculate_40bit_hash(message)\n",
    "        attempts += 1\n",
    "        # Verify if the hash value is already in the dictionary\n",
    "        if hash_val in hash_values:\n",
    "            print(f\"coliziune gasita dupa {attempts} incercari\")\n",
    "            print(f\"mesaj 1: {hash_values[hash_val]}, hash: {hash_val}\")\n",
    "            print(f\"mesaj 2: {message}, hash: {hash_val}\")\n",
    "            return hash_values[hash_val], message\n",
    "        else:\n",
    "            # if not , add the hash value to the dictionary\n",
    "            hash_values[hash_val] = message\n",
    "\n"
   ],
   "id": "a0ad80bf0641f063",
   "outputs": [],
   "execution_count": 7
  },
  {
   "metadata": {
    "collapsed": true,
    "ExecuteTime": {
     "end_time": "2024-11-07T08:07:04.298462Z",
     "start_time": "2024-11-07T08:07:03.763204Z"
    }
   },
   "cell_type": "code",
   "source": [
    "import random\n",
    "\n",
    "print(birthday_attack())\n"
   ],
   "id": "initial_id",
   "outputs": [
    {
     "name": "stdout",
     "output_type": "stream",
     "text": [
      "coliziune gasita dupa 250739 incercari\n",
      "mesaj 1: 950478659121, hash: 9a54c0afc3\n",
      "mesaj 2: 950478659121, hash: 9a54c0afc3\n",
      "('950478659121', '950478659121')\n"
     ]
    }
   ],
   "execution_count": 8
  }
 ],
 "metadata": {
  "kernelspec": {
   "display_name": "Python 3",
   "language": "python",
   "name": "python3"
  },
  "language_info": {
   "codemirror_mode": {
    "name": "ipython",
    "version": 2
   },
   "file_extension": ".py",
   "mimetype": "text/x-python",
   "name": "python",
   "nbconvert_exporter": "python",
   "pygments_lexer": "ipython2",
   "version": "2.7.6"
  }
 },
 "nbformat": 4,
 "nbformat_minor": 5
}
