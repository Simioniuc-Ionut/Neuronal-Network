{
 "cells": [
  {
   "metadata": {
    "ExecuteTime": {
     "end_time": "2024-10-07T11:35:14.689854Z",
     "start_time": "2024-10-07T11:35:14.681436Z"
    }
   },
   "cell_type": "code",
   "source": [
    "a = 5\n",
    "print(type(a))"
   ],
   "id": "8b04962ad7782642",
   "outputs": [
    {
     "name": "stdout",
     "output_type": "stream",
     "text": [
      "<class 'int'>\n"
     ]
    }
   ],
   "execution_count": 1
  },
  {
   "cell_type": "code",
   "id": "initial_id",
   "metadata": {
    "collapsed": true,
    "ExecuteTime": {
     "end_time": "2024-10-07T11:41:40.549029Z",
     "start_time": "2024-10-07T11:41:22.228156Z"
    }
   },
   "source": "%pip install numpy",
   "outputs": [
    {
     "name": "stdout",
     "output_type": "stream",
     "text": [
      "Collecting numpyNote: you may need to restart the kernel to use updated packages.\n",
      "\n",
      "  Downloading numpy-2.1.2-cp312-cp312-win_amd64.whl.metadata (59 kB)\n",
      "Downloading numpy-2.1.2-cp312-cp312-win_amd64.whl (12.6 MB)\n",
      "   ---------------------------------------- 0.0/12.6 MB ? eta -:--:--\n",
      "   - -------------------------------------- 0.5/12.6 MB 5.6 MB/s eta 0:00:03\n",
      "   ------ --------------------------------- 2.1/12.6 MB 6.2 MB/s eta 0:00:02\n",
      "   ------------------- -------------------- 6.0/12.6 MB 11.2 MB/s eta 0:00:01\n",
      "   ----------------------------- ---------- 9.2/12.6 MB 12.4 MB/s eta 0:00:01\n",
      "   ----------------------------------- ---- 11.3/12.6 MB 11.9 MB/s eta 0:00:01\n",
      "   ---------------------------------------- 12.6/12.6 MB 10.8 MB/s eta 0:00:00\n",
      "Installing collected packages: numpy\n",
      "Successfully installed numpy-2.1.2\n"
     ]
    }
   ],
   "execution_count": 2
  },
  {
   "metadata": {
    "ExecuteTime": {
     "end_time": "2024-10-07T11:46:05.518398Z",
     "start_time": "2024-10-07T11:46:05.512195Z"
    }
   },
   "cell_type": "code",
   "source": [
    "# cum am stoca un vector bidimensional in python\n",
    "#{[3, 4] , [4,5]} # nu merge deoarece lista este unhasable.(poate fi mutabila.)\n",
    "#{ (3,4) , (4,5) } # merge deoarece tuple este imutabil -> hashable.\n",
    "a = [ 3, 4 ]\n",
    "b = [ 4, 5 ]\n",
    "\n"
   ],
   "id": "34616611ca32fe75",
   "outputs": [],
   "execution_count": 5
  },
  {
   "metadata": {
    "ExecuteTime": {
     "end_time": "2024-10-07T11:50:09.914692Z",
     "start_time": "2024-10-07T11:50:09.907326Z"
    }
   },
   "cell_type": "code",
   "source": [
    "c = []\n",
    "for i in range(len(a)):\n",
    "    c.append(a[i] + b[i])\n",
    "print(c)\n",
    "\n",
    "c = [ a[i] + b[i] for i in range(len(a)) ]\n",
    "\n",
    "c = [ x + y for x, y in zip(a, b) ] # zip o functie care imi iterezaza in acelasi timp pe 2 obiecte"
   ],
   "id": "a59dffda38ae2ed5",
   "outputs": [
    {
     "name": "stdout",
     "output_type": "stream",
     "text": [
      "[7, 9]\n"
     ]
    }
   ],
   "execution_count": 6
  },
  {
   "metadata": {
    "ExecuteTime": {
     "end_time": "2024-10-07T12:04:33.801081Z",
     "start_time": "2024-10-07T12:04:33.791327Z"
    }
   },
   "cell_type": "code",
   "source": [
    "import math\n",
    "# definim norma\n",
    "def norm(v):\n",
    " return sum(x**2 for x in v) ** 0.5\n",
    "\n",
    "norm(a) # [3 ,4]"
   ],
   "id": "cfb43d71d951b3d9",
   "outputs": [
    {
     "data": {
      "text/plain": [
       "5.0"
      ]
     },
     "execution_count": 9,
     "metadata": {},
     "output_type": "execute_result"
    }
   ],
   "execution_count": 9
  },
  {
   "metadata": {
    "ExecuteTime": {
     "end_time": "2024-10-07T18:38:20.964844Z",
     "start_time": "2024-10-07T18:38:20.930013Z"
    }
   },
   "cell_type": "code",
   "source": [
    "# matrice in py\n",
    "b = [3, 4]\n",
    "a = [\n",
    "    [1,2,7],\n",
    "    [3,4,-2],\n",
    "]\n",
    "#c = []\n",
    "#for v in zip(*a): # zip(a[0], a[1]) , cu * despacheteaza lista a in componentele ei # c.append(v * b)\n",
    "#        print(v)\n",
    "\n",
    "[sum(x * y for x, y in zip(v, b)) for v in zip(*a)]"
   ],
   "id": "4cfaee996b5138b1",
   "outputs": [
    {
     "data": {
      "text/plain": [
       "[15, 22, 13]"
      ]
     },
     "execution_count": 4,
     "metadata": {},
     "output_type": "execute_result"
    }
   ],
   "execution_count": 4
  },
  {
   "metadata": {},
   "cell_type": "code",
   "outputs": [],
   "execution_count": null,
   "source": "",
   "id": "a4c5ce8ced6f6b65"
  }
 ],
 "metadata": {
  "kernelspec": {
   "display_name": "Python 3",
   "language": "python",
   "name": "python3"
  },
  "language_info": {
   "codemirror_mode": {
    "name": "ipython",
    "version": 2
   },
   "file_extension": ".py",
   "mimetype": "text/x-python",
   "name": "python",
   "nbconvert_exporter": "python",
   "pygments_lexer": "ipython2",
   "version": "2.7.6"
  }
 },
 "nbformat": 4,
 "nbformat_minor": 5
}
