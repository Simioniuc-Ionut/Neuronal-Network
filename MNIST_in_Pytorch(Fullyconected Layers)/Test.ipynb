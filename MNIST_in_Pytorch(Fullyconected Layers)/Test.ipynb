{
 "cells": [
  {
   "cell_type": "code",
   "id": "initial_id",
   "metadata": {
    "collapsed": true
   },
   "source": [
    "import torch\n",
    "\n",
    "# Crearea unui tensor 2D de exemplu\n",
    "tensor_2d = torch.tensor([[1, 2, 3], [4, 5, 6],[4, 5, 6]])\n",
    "\n",
    "# Aplatizarea tensorului\n",
    "flattened_tensor = torch.flatten(tensor_2d)\n",
    "\n",
    "print(\"Tensor original:\\n\", tensor_2d)\n",
    "print(\"Tensor aplatizat:\\n\", flattened_tensor)"
   ],
   "outputs": [],
   "execution_count": null
  },
  {
   "metadata": {
    "ExecuteTime": {
     "end_time": "2024-12-01T16:13:31.731162Z",
     "start_time": "2024-12-01T16:13:31.721136Z"
    }
   },
   "cell_type": "code",
   "source": [
    "import torch\n",
    "\n",
    "# Create a 3D tensor\n",
    "tensor_3d = torch.tensor([[1, 2], [3, 4], [5, 6], [7, 8]])\n",
    "\n",
    "# Flatten the tensor into a single vector\n",
    "flattened_tensor = torch.flatten(tensor_3d)\n",
    "view_torch = tensor_3d.view(-1,4)\n",
    "print(\"Original tensor:\\n\", tensor_3d)\n",
    "print(\"Flattened tensor:\\n\", flattened_tensor)\n",
    "print(\"View tensor:\\n\", view_torch)\n"
   ],
   "id": "e88383fc870c1bab",
   "outputs": [
    {
     "name": "stdout",
     "output_type": "stream",
     "text": [
      "Original tensor:\n",
      " tensor([[1, 2],\n",
      "        [3, 4],\n",
      "        [5, 6],\n",
      "        [7, 8]])\n",
      "Flattened tensor:\n",
      " tensor([1, 2, 3, 4, 5, 6, 7, 8])\n",
      "View tensor:\n",
      " tensor([[1, 2, 3, 4],\n",
      "        [5, 6, 7, 8]])\n"
     ]
    }
   ],
   "execution_count": 4
  },
  {
   "metadata": {},
   "cell_type": "code",
   "source": [
    "import torch\n",
    "\n",
    "# Create a tensor with a dimension of size 1\n",
    "tensor_with_ones = torch.tensor([[[1, 2, 3]]])\n",
    "\n",
    "# Squeeze the tensor to remove dimensions of size 1\n",
    "squeezed_tensor = torch.squeeze(tensor_with_ones)\n",
    "\n",
    "print(\"Original tensor:\\n\", tensor_with_ones)\n",
    "print(\"Squeezed tensor:\\n\", squeezed_tensor)"
   ],
   "id": "c9ce24c0fa09373b",
   "outputs": [],
   "execution_count": null
  },
  {
   "metadata": {
    "ExecuteTime": {
     "end_time": "2024-12-01T16:28:07.226004Z",
     "start_time": "2024-12-01T16:28:07.213447Z"
    }
   },
   "cell_type": "code",
   "source": [
    "import torch\n",
    "\n",
    "# Create a 2D tensor\n",
    "tensor_2d = torch.tensor([[1, 2, 3], [4, 5, 6]])\n",
    "\n",
    "print (tensor_2d.view(-1,1,2))\n",
    "\n",
    "# Reshape the tensor to a different shape\n",
    "reshaped_tensor = tensor_2d.view(3, 2)\n",
    "\n",
    "print(\"Original tensor:\\n\", tensor_2d)\n",
    "print(\"Reshaped tensor:\\n\", reshaped_tensor)"
   ],
   "id": "3d2aa3c7a467a3bd",
   "outputs": [
    {
     "name": "stdout",
     "output_type": "stream",
     "text": [
      "tensor([[[1, 2]],\n",
      "\n",
      "        [[3, 4]],\n",
      "\n",
      "        [[5, 6]]])\n",
      "torch.Size([2, 3])\n",
      "Original tensor:\n",
      " tensor([[1, 2, 3],\n",
      "        [4, 5, 6]])\n",
      "Reshaped tensor:\n",
      " tensor([[1, 2],\n",
      "        [3, 4],\n",
      "        [5, 6]])\n"
     ]
    }
   ],
   "execution_count": 15
  },
  {
   "metadata": {},
   "cell_type": "code",
   "source": [
    "\n",
    "t1 = torch.ones(2,2,3)\n",
    "t2 = torch.zeros(3,3)\n",
    "t3 = torch.rand(3,3)\n",
    "t4 = torch.randn(3,3)\n"
   ],
   "id": "d18e2aa6a97d0568",
   "outputs": [],
   "execution_count": null
  },
  {
   "metadata": {},
   "cell_type": "code",
   "source": [
    "%pip install jupyter_contrib_nbextensions\n",
    "%jupyter contrib nbextension install --user\n"
   ],
   "id": "48bd70226afb601a",
   "outputs": [],
   "execution_count": null
  },
  {
   "metadata": {
    "ExecuteTime": {
     "end_time": "2024-11-29T10:28:24.443035Z",
     "start_time": "2024-11-29T10:28:24.431051Z"
    }
   },
   "cell_type": "code",
   "source": [
    "import torch\n",
    "t3 = torch.tensor([[1, 2, 3, 4, 5],[6, 7, 8, 9, 10],[11, 12, 13, 14, 15],[16, 17, 18, 19, 20],[21, 22, 23, 24, 25]])\n",
    "t3.max(dim=0)"
   ],
   "id": "fc166c2e723b2338",
   "outputs": [
    {
     "data": {
      "text/plain": [
       "torch.return_types.max(\n",
       "values=tensor([21, 22, 23, 24, 25]),\n",
       "indices=tensor([4, 4, 4, 4, 4]))"
      ]
     },
     "execution_count": 3,
     "metadata": {},
     "output_type": "execute_result"
    }
   ],
   "execution_count": 3
  },
  {
   "metadata": {},
   "cell_type": "code",
   "outputs": [],
   "execution_count": null,
   "source": "",
   "id": "e08856368f258b0d"
  }
 ],
 "metadata": {
  "kernelspec": {
   "display_name": "Python 3",
   "language": "python",
   "name": "python3"
  },
  "language_info": {
   "codemirror_mode": {
    "name": "ipython",
    "version": 2
   },
   "file_extension": ".py",
   "mimetype": "text/x-python",
   "name": "python",
   "nbconvert_exporter": "python",
   "pygments_lexer": "ipython2",
   "version": "2.7.6"
  }
 },
 "nbformat": 4,
 "nbformat_minor": 5
}
