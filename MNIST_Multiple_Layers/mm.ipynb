{
 "cells": [
  {
   "cell_type": "code",
   "execution_count": null,
   "id": "initial_id",
   "metadata": {
    "collapsed": true
   },
   "outputs": [],
   "source": [
    ""
   ]
  },
  {
   "metadata": {
    "ExecuteTime": {
     "end_time": "2024-11-08T09:48:01.942431Z",
     "start_time": "2024-11-08T09:48:01.928892Z"
    }
   },
   "cell_type": "code",
   "source": [
    "import pickle\n",
    "\n",
    "# Load the model parameters from a file\n",
    "# Load the model parameters from a file\n",
    "with open(\"model_parameters_before_dropout.pkl\", \"rb\") as file:\n",
    "    model_parameters = pickle.load(file)\n",
    "\n",
    "# Extract the model parametersZ\n",
    "w1 = model_parameters[\"w1\"]\n",
    "b1 = model_parameters[\"b1\"]\n",
    "w2 = model_parameters[\"w2\"]\n",
    "b2 = model_parameters[\"b2\"]\n",
    "\n",
    "print(w1.shape)\n",
    "print(b1.shape)\n",
    "print(w2.shape)\n",
    "print(b2.shape)"
   ],
   "id": "b368c64fd82d4d02",
   "outputs": [
    {
     "name": "stdout",
     "output_type": "stream",
     "text": [
      "(784, 100)\n",
      "(1, 100)\n",
      "(100, 10)\n",
      "(1, 10)\n"
     ]
    }
   ],
   "execution_count": 7
  },
  {
   "metadata": {
    "ExecuteTime": {
     "end_time": "2024-11-08T11:13:32.322030Z",
     "start_time": "2024-11-08T11:13:32.315135Z"
    }
   },
   "cell_type": "code",
   "source": [
    "def dropout_function(layer_output, dropout_rate):\n",
    "    # Generate a mask that will zero out neurons with probability dropout_rate\n",
    "    mask = (np.random.rand(*layer_output.shape) < (1- dropout_rate)).astype(float)\n",
    "    # Apply the mask to the layer output and scale neurons that remain active \n",
    "    return layer_output * mask / (1 - dropout_rate)"
   ],
   "id": "6c8f63bd5c933325",
   "outputs": [],
   "execution_count": 17
  },
  {
   "metadata": {
    "ExecuteTime": {
     "end_time": "2024-11-08T17:25:30.375813Z",
     "start_time": "2024-11-08T17:25:30.298485Z"
    }
   },
   "cell_type": "code",
   "source": [
    "import numpy as np\n",
    "\n",
    "# Exemplu de strat cu 10 neuroni\n",
    "layer_dropout = np.random.randn(5, 10)\n",
    "\n",
    "# Rata de dropout de 20%\n",
    "dropout_rate = 0.2\n",
    "\n",
    "# Generarea măștii de dropout\n",
    "# mask = np.random.rand(*layer_dropout.shape) < dropout_rate\n",
    "layer_out= dropout_function(layer_dropout, dropout_rate)\n",
    "# Aplicarea măștii de dropout\n",
    "# layer_dropout *= mask\n",
    "\n",
    "# print(\"Masca de dropout:\", mask)\n",
    "print(\"Stratul după aplicarea dropout-ului:\", layer_out)"
   ],
   "id": "86c29cbfcea7ceaf",
   "outputs": [
    {
     "name": "stdout",
     "output_type": "stream",
     "text": [
      "Stratul după aplicarea dropout-ului: [[ 0.6815675  -1.02524602  0.20943366 -0.11528553  0.31739028  0.08449674\n",
      "   2.4366628  -0.         -0.34697865 -0.        ]\n",
      " [ 0.          0.13454623  0.24583093  0.97973427 -3.07694773 -0.727283\n",
      "  -0.          0.92534061  1.31742973 -1.13707837]\n",
      " [-1.05934576 -0.          2.13619687 -0.         -0.          0.\n",
      "  -1.46544022  0.          0.          4.04630197]\n",
      " [ 0.33282326  1.58236872 -0.35660268  0.0850678  -0.52563344  0.43458168\n",
      "  -0.47505404  0.45178447 -0.         -1.12913946]\n",
      " [-0.06693346 -0.97980604  0.35177633  0.         -0.31121679  0.30353343\n",
      "   0.42633837  2.49504948  1.40993373 -0.        ]]\n"
     ]
    }
   ],
   "execution_count": 19
  },
  {
   "metadata": {
    "ExecuteTime": {
     "end_time": "2024-11-09T17:21:12.439320Z",
     "start_time": "2024-11-09T17:21:12.432384Z"
    }
   },
   "cell_type": "code",
   "source": [
    "A = np.array(\n",
    "    [[1, 2, 3,8], [4, 5, 6,9], [7, 8, 9,1]]\n",
    ")\n",
    "\n",
    "permutation = np.random.permutation(A.shape[1])\n",
    "print(\"perm: \" , permutation)\n",
    "print(A[0:10])\n",
    "# print(A[B])"
   ],
   "id": "d572ec019f6ef8cc",
   "outputs": [
    {
     "name": "stdout",
     "output_type": "stream",
     "text": [
      "perm:  [2 1 0 3]\n",
      "[[1 2 3 8]\n",
      " [4 5 6 9]\n",
      " [7 8 9 1]]\n"
     ]
    }
   ],
   "execution_count": 62
  },
  {
   "metadata": {
    "ExecuteTime": {
     "end_time": "2024-11-09T17:17:20.284871Z",
     "start_time": "2024-11-09T17:17:20.277231Z"
    }
   },
   "cell_type": "code",
   "source": "",
   "id": "db79d71dc2c21d4f",
   "outputs": [],
   "execution_count": null
  },
  {
   "metadata": {},
   "cell_type": "code",
   "outputs": [],
   "execution_count": null,
   "source": "",
   "id": "e879865361b52163"
  }
 ],
 "metadata": {
  "kernelspec": {
   "display_name": "Python 3",
   "language": "python",
   "name": "python3"
  },
  "language_info": {
   "codemirror_mode": {
    "name": "ipython",
    "version": 2
   },
   "file_extension": ".py",
   "mimetype": "text/x-python",
   "name": "python",
   "nbconvert_exporter": "python",
   "pygments_lexer": "ipython2",
   "version": "2.7.6"
  }
 },
 "nbformat": 4,
 "nbformat_minor": 5
}
