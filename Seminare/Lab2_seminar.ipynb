{
 "cells": [
  {
   "cell_type": "code",
   "id": "initial_id",
   "metadata": {
    "collapsed": true,
    "ExecuteTime": {
     "end_time": "2024-10-14T11:04:54.038408Z",
     "start_time": "2024-10-14T11:04:48.044539Z"
    }
   },
   "source": "%pip install numpy",
   "outputs": [
    {
     "name": "stdout",
     "output_type": "stream",
     "text": [
      "Requirement already satisfied: numpy in c:\\users\\asus\\appdata\\local\\programs\\python\\python312\\lib\\site-packages (2.1.2)\n",
      "Note: you may need to restart the kernel to use updated packages.\n"
     ]
    }
   ],
   "execution_count": 1
  },
  {
   "metadata": {
    "ExecuteTime": {
     "end_time": "2024-10-14T11:10:12.198799Z",
     "start_time": "2024-10-14T11:10:11.740918Z"
    }
   },
   "cell_type": "code",
   "source": [
    "import numpy as np\n",
    "\n",
    "# a = [1 , 2 ,3]\n",
    "a = np.array([\n",
    "    [1,2,3],\n",
    "    [4,5,6]\n",
    "])\n",
    "print (a)\n",
    "print (type(a)) \n",
    "# nu merge daca am alte tipuri\n",
    "# b = np.array([1,\"fa\",3], dtype=np.int8)\n",
    "# print (b)\n",
    "\n",
    "print(a.shape) # avem 2 linii si 3 coloane\n",
    "# in numpy vom avea arrayuri multidimensionale\n",
    "print(a.size) # avem 6 elemente\n",
    "\n",
    "\n",
    "np.zeros((2,3), dtype=np.int8) # matrice de 0\n",
    "np.ones((2,3), dtype=np.int8) # matrice de 1\n",
    "np.full((2,3), 5, dtype=np.int8) # matrice de 5\n",
    "np.eye(3) # matrice identitate\n",
    "np.random.random((2,3)) # matrice random intre 0 si 1 uniforma\n",
    "np.random.random((2,3)) * 2 - 1 # matrice random intre -1 si 1\n"
   ],
   "id": "9c1c60b58c641025",
   "outputs": [
    {
     "name": "stdout",
     "output_type": "stream",
     "text": [
      "[[1 2 3]\n",
      " [4 5 6]]\n",
      "<class 'numpy.ndarray'>\n",
      "(2, 3)\n",
      "6\n"
     ]
    },
    {
     "data": {
      "text/plain": [
       "array([[ 0.31641394, -0.86679358, -0.24205919],\n",
       "       [-0.43233041, -0.23951061, -0.09805671]])"
      ]
     },
     "execution_count": 14,
     "metadata": {},
     "output_type": "execute_result"
    }
   ],
   "execution_count": 14
  },
  {
   "metadata": {
    "ExecuteTime": {
     "end_time": "2024-10-14T11:13:37.062513Z",
     "start_time": "2024-10-14T11:13:37.054148Z"
    }
   },
   "cell_type": "code",
   "source": [
    "list(range(10)) # range(0,10)\n",
    "# echivalent in numpy\n",
    "np.arange(2,10,2)\n"
   ],
   "id": "7d262d5540aaea72",
   "outputs": [
    {
     "data": {
      "text/plain": [
       "array([2, 4, 6, 8])"
      ]
     },
     "execution_count": 18,
     "metadata": {},
     "output_type": "execute_result"
    }
   ],
   "execution_count": 18
  },
  {
   "metadata": {
    "ExecuteTime": {
     "end_time": "2024-10-14T11:14:07.240581Z",
     "start_time": "2024-10-14T11:14:07.232477Z"
    }
   },
   "cell_type": "code",
   "source": [
    "a = np.arange(6)\n",
    "b = np.random.random(6)\n",
    "print(a)\n",
    "print(b)"
   ],
   "id": "a9c1e3dd175b0dd3",
   "outputs": [
    {
     "name": "stdout",
     "output_type": "stream",
     "text": [
      "[0 1 2 3 4 5]\n",
      "[0.7760434  0.05159364 0.49706766 0.98728454 0.94364521 0.08677002]\n"
     ]
    }
   ],
   "execution_count": 19
  },
  {
   "metadata": {
    "ExecuteTime": {
     "end_time": "2024-10-14T11:15:31.320660Z",
     "start_time": "2024-10-14T11:15:31.310005Z"
    }
   },
   "cell_type": "code",
   "source": [
    "a + b\n",
    "a - b\n",
    "a * b\n",
    "a ** b\n",
    "print(a)\n",
    "a.min()\n",
    "a.max()\n",
    "print(a.mean())\n",
    "print(np.mean(a))"
   ],
   "id": "58f4c0a19ca64f8e",
   "outputs": [
    {
     "name": "stdout",
     "output_type": "stream",
     "text": [
      "[0 1 2 3 4 5]\n",
      "2.5\n",
      "2.5\n"
     ]
    }
   ],
   "execution_count": 27
  },
  {
   "metadata": {
    "ExecuteTime": {
     "end_time": "2024-10-14T11:16:55.389271Z",
     "start_time": "2024-10-14T11:16:55.381914Z"
    }
   },
   "cell_type": "code",
   "source": [
    "# definim o matrice\n",
    "a = np.array([\n",
    "    [1,2,3],\n",
    "    [4,5,6]\n",
    "])\n",
    "a = np.array(a)\n",
    "print(a.dtype)\n"
   ],
   "id": "71c2ec12390f6124",
   "outputs": [
    {
     "name": "stdout",
     "output_type": "stream",
     "text": [
      "int64\n"
     ]
    }
   ],
   "execution_count": 29
  },
  {
   "metadata": {
    "ExecuteTime": {
     "end_time": "2024-10-14T11:18:53.625667Z",
     "start_time": "2024-10-14T11:18:53.616757Z"
    }
   },
   "cell_type": "code",
   "source": [
    "# putem defini mai interesant ce este minim\n",
    "a.min(axis=0) # face minim la nivelul liniilor,se uita pe fiecare elemnt dintre fiecare linie si ia minimul"
   ],
   "id": "f021aed24615dd76",
   "outputs": [
    {
     "data": {
      "text/plain": [
       "array([1, 2, 3])"
      ]
     },
     "execution_count": 35,
     "metadata": {},
     "output_type": "execute_result"
    }
   ],
   "execution_count": 35
  },
  {
   "metadata": {
    "ExecuteTime": {
     "end_time": "2024-10-14T11:19:41.052240Z",
     "start_time": "2024-10-14T11:19:41.043804Z"
    }
   },
   "cell_type": "code",
   "source": [
    "c = [1,2,3,4]\n",
    "print(c[1:3])"
   ],
   "id": "159d19b84a183420",
   "outputs": [
    {
     "name": "stdout",
     "output_type": "stream",
     "text": [
      "[2, 3]\n"
     ]
    }
   ],
   "execution_count": 37
  },
  {
   "metadata": {
    "ExecuteTime": {
     "end_time": "2024-10-14T11:30:36.046088Z",
     "start_time": "2024-10-14T11:30:35.957926Z"
    }
   },
   "cell_type": "code",
   "source": [
    "a = [\n",
    "    [1,2,3],\n",
    "    [4,5,6]\n",
    "]\n",
    "a[0:2,1]\n"
   ],
   "id": "ae740c4d93b2b4ab",
   "outputs": [
    {
     "ename": "TypeError",
     "evalue": "list indices must be integers or slices, not tuple",
     "output_type": "error",
     "traceback": [
      "\u001B[1;31m---------------------------------------------------------------------------\u001B[0m",
      "\u001B[1;31mTypeError\u001B[0m                                 Traceback (most recent call last)",
      "Cell \u001B[1;32mIn[72], line 5\u001B[0m\n\u001B[0;32m      1\u001B[0m a \u001B[38;5;241m=\u001B[39m [\n\u001B[0;32m      2\u001B[0m     [\u001B[38;5;241m1\u001B[39m,\u001B[38;5;241m2\u001B[39m,\u001B[38;5;241m3\u001B[39m],\n\u001B[0;32m      3\u001B[0m     [\u001B[38;5;241m4\u001B[39m,\u001B[38;5;241m5\u001B[39m,\u001B[38;5;241m6\u001B[39m]\n\u001B[0;32m      4\u001B[0m ]\n\u001B[1;32m----> 5\u001B[0m \u001B[43ma\u001B[49m\u001B[43m[\u001B[49m\u001B[38;5;241;43m0\u001B[39;49m\u001B[43m:\u001B[49m\u001B[38;5;241;43m2\u001B[39;49m\u001B[43m,\u001B[49m\u001B[38;5;241;43m1\u001B[39;49m\u001B[43m]\u001B[49m\n",
      "\u001B[1;31mTypeError\u001B[0m: list indices must be integers or slices, not tuple"
     ]
    }
   ],
   "execution_count": 72
  },
  {
   "metadata": {
    "ExecuteTime": {
     "end_time": "2024-10-14T11:25:25.199709Z",
     "start_time": "2024-10-14T11:25:25.190180Z"
    }
   },
   "cell_type": "code",
   "source": [
    "a = [\n",
    "    [1,2,3],\n",
    "    [4,5,6]\n",
    "]\n",
    "a = np.array(a)\n",
    "a[0:2,1] # in numpy putem indexa mult mai easy\n",
    "a[1,1]\n",
    "\n",
    "a.transpose() \n",
    "a.T"
   ],
   "id": "cf9784d0d3bd4565",
   "outputs": [
    {
     "data": {
      "text/plain": [
       "np.int64(5)"
      ]
     },
     "execution_count": 58,
     "metadata": {},
     "output_type": "execute_result"
    }
   ],
   "execution_count": 58
  },
  {
   "metadata": {
    "ExecuteTime": {
     "end_time": "2024-10-14T11:30:29.994300Z",
     "start_time": "2024-10-14T11:30:29.982191Z"
    }
   },
   "cell_type": "code",
   "source": [
    "print(\"a\" , a)\n",
    "print(\"a shape\" ,a.shape)\n",
    "b = np.array([2,3,2])\n",
    "b = b.reshape(3,1) # imi transforma matrice in 3 linii cu cate o coloana\n",
    "print(\"b reshape\" ,b)\n",
    "# print(b)\n",
    "# a + b \n",
    "print(\"b shape\",b.shape) # nr linii coloane.\n",
    "# dotul cel mai folosit pt imultire\n",
    "# a.dot(b)\n",
    "a @ b\n",
    "np.matmul(a,b)"
   ],
   "id": "1527427e9bc6788f",
   "outputs": [
    {
     "name": "stdout",
     "output_type": "stream",
     "text": [
      "a [[1 2 3]\n",
      " [4 5 6]]\n",
      "a shape (2, 3)\n",
      "b reshape [[2]\n",
      " [3]\n",
      " [2]]\n",
      "b shape (3, 1)\n"
     ]
    },
    {
     "data": {
      "text/plain": [
       "array([[14],\n",
       "       [35]])"
      ]
     },
     "execution_count": 71,
     "metadata": {},
     "output_type": "execute_result"
    }
   ],
   "execution_count": 71
  },
  {
   "metadata": {},
   "cell_type": "code",
   "outputs": [],
   "execution_count": null,
   "source": "",
   "id": "e0446c1a218fbc56"
  }
 ],
 "metadata": {
  "kernelspec": {
   "display_name": "Python 3",
   "language": "python",
   "name": "python3"
  },
  "language_info": {
   "codemirror_mode": {
    "name": "ipython",
    "version": 2
   },
   "file_extension": ".py",
   "mimetype": "text/x-python",
   "name": "python",
   "nbconvert_exporter": "python",
   "pygments_lexer": "ipython2",
   "version": "2.7.6"
  }
 },
 "nbformat": 4,
 "nbformat_minor": 5
}
