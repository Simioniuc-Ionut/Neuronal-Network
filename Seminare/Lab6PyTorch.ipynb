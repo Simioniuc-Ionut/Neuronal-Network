{
 "cells": [
  {
   "cell_type": "code",
   "id": "initial_id",
   "metadata": {
    "collapsed": true,
    "ExecuteTime": {
     "end_time": "2024-11-25T13:05:42.250022Z",
     "start_time": "2024-11-25T13:05:42.245426Z"
    }
   },
   "source": [
    "import torch\n",
    "import numpy as np\n",
    "\n"
   ],
   "outputs": [],
   "execution_count": 5
  },
  {
   "metadata": {
    "ExecuteTime": {
     "end_time": "2024-11-25T12:59:21.336760Z",
     "start_time": "2024-11-25T12:58:18.473808Z"
    }
   },
   "cell_type": "code",
   "source": "%pip install timed-decorator",
   "id": "53f645a4671a64ac",
   "outputs": [
    {
     "name": "stdout",
     "output_type": "stream",
     "text": [
      "^C\n",
      "Note: you may need to restart the kernel to use updated packages.\n"
     ]
    }
   ],
   "execution_count": 3
  },
  {
   "metadata": {},
   "cell_type": "code",
   "outputs": [],
   "execution_count": null,
   "source": "from timed_decorator.simple_timed import timed",
   "id": "208bae62d7440586"
  },
  {
   "metadata": {},
   "cell_type": "markdown",
   "source": [
    "Tensor\n",
    "\n",
    "Tensor Creation"
   ],
   "id": "e04bd9d9fac4ee2c"
  },
  {
   "metadata": {
    "ExecuteTime": {
     "end_time": "2024-11-25T13:05:43.935624Z",
     "start_time": "2024-11-25T13:05:43.920114Z"
    }
   },
   "cell_type": "code",
   "source": [
    "# From Python lists:\n",
    "torch.tensor([1, 2, 3])"
   ],
   "id": "29d7924814a6d2c6",
   "outputs": [
    {
     "data": {
      "text/plain": [
       "tensor([1, 2, 3])"
      ]
     },
     "execution_count": 6,
     "metadata": {},
     "output_type": "execute_result"
    }
   ],
   "execution_count": 6
  },
  {
   "metadata": {
    "ExecuteTime": {
     "end_time": "2024-11-25T13:05:56.868944Z",
     "start_time": "2024-11-25T13:05:56.856854Z"
    }
   },
   "cell_type": "code",
   "source": [
    "# Random tensor with a given size\n",
    "torch.rand((4, 8))"
   ],
   "id": "50d322658af536ab",
   "outputs": [
    {
     "data": {
      "text/plain": [
       "tensor([[0.5653, 0.0145, 0.1358, 0.1695, 0.3517, 0.9597, 0.3191, 0.6854],\n",
       "        [0.2957, 0.7284, 0.2175, 0.4252, 0.2759, 0.4144, 0.0937, 0.4249],\n",
       "        [0.7365, 0.3160, 0.1749, 0.6149, 0.4166, 0.5605, 0.6969, 0.3467],\n",
       "        [0.3892, 0.2556, 0.8766, 0.4001, 0.6216, 0.6341, 0.5263, 0.5044]])"
      ]
     },
     "execution_count": 7,
     "metadata": {},
     "output_type": "execute_result"
    }
   ],
   "execution_count": 7
  },
  {
   "metadata": {
    "ExecuteTime": {
     "end_time": "2024-11-25T13:06:08.822123Z",
     "start_time": "2024-11-25T13:06:08.811350Z"
    }
   },
   "cell_type": "code",
   "source": [
    "# Zero tensor\n",
    "torch.zeros((3, 3, 3))"
   ],
   "id": "14e38d789fd615a1",
   "outputs": [
    {
     "data": {
      "text/plain": [
       "tensor([[[0., 0., 0.],\n",
       "         [0., 0., 0.],\n",
       "         [0., 0., 0.]],\n",
       "\n",
       "        [[0., 0., 0.],\n",
       "         [0., 0., 0.],\n",
       "         [0., 0., 0.]],\n",
       "\n",
       "        [[0., 0., 0.],\n",
       "         [0., 0., 0.],\n",
       "         [0., 0., 0.]]])"
      ]
     },
     "execution_count": 8,
     "metadata": {},
     "output_type": "execute_result"
    }
   ],
   "execution_count": 8
  },
  {
   "metadata": {
    "ExecuteTime": {
     "end_time": "2024-11-25T13:06:19.995135Z",
     "start_time": "2024-11-25T13:06:19.986401Z"
    }
   },
   "cell_type": "code",
   "source": "torch.arange(5, 15, 2)",
   "id": "8ecdc3e5da76107",
   "outputs": [
    {
     "data": {
      "text/plain": [
       "tensor([ 5,  7,  9, 11, 13])"
      ]
     },
     "execution_count": 9,
     "metadata": {},
     "output_type": "execute_result"
    }
   ],
   "execution_count": 9
  },
  {
   "metadata": {
    "ExecuteTime": {
     "end_time": "2024-11-25T13:06:29.675449Z",
     "start_time": "2024-11-25T13:06:29.666102Z"
    }
   },
   "cell_type": "code",
   "source": "torch.full((2, 10), 5)",
   "id": "42c07437a526e268",
   "outputs": [
    {
     "data": {
      "text/plain": [
       "tensor([[5, 5, 5, 5, 5, 5, 5, 5, 5, 5],\n",
       "        [5, 5, 5, 5, 5, 5, 5, 5, 5, 5]])"
      ]
     },
     "execution_count": 10,
     "metadata": {},
     "output_type": "execute_result"
    }
   ],
   "execution_count": 10
  },
  {
   "metadata": {
    "ExecuteTime": {
     "end_time": "2024-11-25T13:06:38.618614Z",
     "start_time": "2024-11-25T13:06:38.610789Z"
    }
   },
   "cell_type": "code",
   "source": "torch.eye(4)",
   "id": "cc01d05d9ac47246",
   "outputs": [
    {
     "data": {
      "text/plain": [
       "tensor([[1., 0., 0., 0.],\n",
       "        [0., 1., 0., 0.],\n",
       "        [0., 0., 1., 0.],\n",
       "        [0., 0., 0., 1.]])"
      ]
     },
     "execution_count": 11,
     "metadata": {},
     "output_type": "execute_result"
    }
   ],
   "execution_count": 11
  },
  {
   "metadata": {
    "ExecuteTime": {
     "end_time": "2024-11-25T13:06:44.291007Z",
     "start_time": "2024-11-25T13:06:44.282648Z"
    }
   },
   "cell_type": "code",
   "source": "torch.linspace(0, 10, 5)    ",
   "id": "c9a238aa89376c72",
   "outputs": [
    {
     "data": {
      "text/plain": [
       "tensor([ 0.0000,  2.5000,  5.0000,  7.5000, 10.0000])"
      ]
     },
     "execution_count": 12,
     "metadata": {},
     "output_type": "execute_result"
    }
   ],
   "execution_count": 12
  },
  {
   "metadata": {
    "ExecuteTime": {
     "end_time": "2024-11-25T13:06:50.444387Z",
     "start_time": "2024-11-25T13:06:50.435659Z"
    }
   },
   "cell_type": "code",
   "source": "torch.logspace(0, 10, 5)",
   "id": "6e72aca024cb846e",
   "outputs": [
    {
     "data": {
      "text/plain": [
       "tensor([1.0000e+00, 3.1623e+02, 1.0000e+05, 3.1623e+07, 1.0000e+10])"
      ]
     },
     "execution_count": 13,
     "metadata": {},
     "output_type": "execute_result"
    }
   ],
   "execution_count": 13
  },
  {
   "metadata": {
    "ExecuteTime": {
     "end_time": "2024-11-25T13:06:54.769079Z",
     "start_time": "2024-11-25T13:06:54.737572Z"
    }
   },
   "cell_type": "code",
   "source": "torch.ones((3, 3))",
   "id": "2b0d107d64a21923",
   "outputs": [
    {
     "data": {
      "text/plain": [
       "tensor([[1., 1., 1.],\n",
       "        [1., 1., 1.],\n",
       "        [1., 1., 1.]])"
      ]
     },
     "execution_count": 14,
     "metadata": {},
     "output_type": "execute_result"
    }
   ],
   "execution_count": 14
  },
  {
   "metadata": {
    "ExecuteTime": {
     "end_time": "2024-11-25T13:07:14.280420Z",
     "start_time": "2024-11-25T13:07:14.270527Z"
    }
   },
   "cell_type": "code",
   "source": "torch.randperm(10)",
   "id": "e481ea7e5def9349",
   "outputs": [
    {
     "data": {
      "text/plain": [
       "tensor([5, 9, 3, 4, 7, 0, 1, 2, 8, 6])"
      ]
     },
     "execution_count": 18,
     "metadata": {},
     "output_type": "execute_result"
    }
   ],
   "execution_count": 18
  },
  {
   "metadata": {
    "ExecuteTime": {
     "end_time": "2024-11-25T13:07:21.396390Z",
     "start_time": "2024-11-25T13:07:21.389086Z"
    }
   },
   "cell_type": "code",
   "source": [
    "t1 = torch.rand((100, 20, 30))\n",
    "t2 = torch.rand((100, 20, 30))\n",
    "print(t1.shape, t2.shape)"
   ],
   "id": "b3120a4ec87f48ed",
   "outputs": [
    {
     "name": "stdout",
     "output_type": "stream",
     "text": [
      "torch.Size([100, 20, 30]) torch.Size([100, 20, 30])\n"
     ]
    }
   ],
   "execution_count": 20
  },
  {
   "metadata": {
    "ExecuteTime": {
     "end_time": "2024-11-25T13:07:33.430573Z",
     "start_time": "2024-11-25T13:07:33.419971Z"
    }
   },
   "cell_type": "code",
   "source": [
    "print((t1 * t2).shape)\n",
    "torch.equal(t1 * t2, torch.mul(t1, t2))"
   ],
   "id": "710781d124e7d600",
   "outputs": [
    {
     "name": "stdout",
     "output_type": "stream",
     "text": [
      "torch.Size([100, 20, 30])\n"
     ]
    },
    {
     "data": {
      "text/plain": [
       "True"
      ]
     },
     "execution_count": 21,
     "metadata": {},
     "output_type": "execute_result"
    }
   ],
   "execution_count": 21
  },
  {
   "metadata": {
    "ExecuteTime": {
     "end_time": "2024-11-25T13:10:37.844485Z",
     "start_time": "2024-11-25T13:10:37.826848Z"
    }
   },
   "cell_type": "code",
   "source": [
    "import torch\n",
    "\n",
    "v1 = torch.tensor([1, 2, 3])\n",
    "v2 = torch.tensor([4, 5, 6])\n",
    "\n",
    "# Dot product\n",
    "dot_product = torch.dot(v1, v2)\n",
    "print(dot_product)  # tensor(32)"
   ],
   "id": "5fc9dd18d9122527",
   "outputs": [
    {
     "name": "stdout",
     "output_type": "stream",
     "text": [
      "tensor(32)\n"
     ]
    }
   ],
   "execution_count": 22
  },
  {
   "metadata": {
    "ExecuteTime": {
     "end_time": "2024-11-25T13:11:24.954122Z",
     "start_time": "2024-11-25T13:11:24.928400Z"
    }
   },
   "cell_type": "code",
   "source": [
    "t2t = t2.transpose(1, 2)\n",
    "print(t2t.shape)\n",
    "print((t1 @ t2t).shape)"
   ],
   "id": "c72cbf4942a96708",
   "outputs": [
    {
     "name": "stdout",
     "output_type": "stream",
     "text": [
      "torch.Size([100, 30, 20])\n",
      "torch.Size([100, 20, 20])\n"
     ]
    }
   ],
   "execution_count": 23
  },
  {
   "metadata": {
    "ExecuteTime": {
     "end_time": "2024-11-25T13:15:36.157031Z",
     "start_time": "2024-11-25T13:15:36.140304Z"
    }
   },
   "cell_type": "code",
   "source": [
    "print(torch.bmm(t1, t2t))\n",
    "torch.equal(t1 @ t2t, torch.bmm(t1, t2t))"
   ],
   "id": "883728dc3c4d2ac8",
   "outputs": [
    {
     "name": "stdout",
     "output_type": "stream",
     "text": [
      "tensor([[[ 7.9413,  7.8629,  7.5608,  ...,  7.7986,  7.6449,  5.8026],\n",
      "         [10.2346,  8.7134,  8.7386,  ...,  9.9835,  8.6866,  6.1349],\n",
      "         [ 6.8187,  7.0815,  6.3547,  ...,  7.4693,  7.1101,  4.9660],\n",
      "         ...,\n",
      "         [ 8.0686,  8.5164,  6.6993,  ...,  7.3272,  7.6603,  5.6119],\n",
      "         [ 8.6176,  6.9113,  7.4934,  ...,  8.0423,  7.7091,  5.0782],\n",
      "         [11.1070,  8.7463,  8.5695,  ...,  9.5451,  8.9064,  6.3529]],\n",
      "\n",
      "        [[ 8.8496,  8.8087,  7.5778,  ...,  7.9882,  6.5325,  7.5678],\n",
      "         [ 9.3851,  7.9157,  7.5244,  ...,  7.1829,  6.5684,  7.6917],\n",
      "         [ 7.6713,  7.2329,  7.0724,  ...,  6.6935,  6.4238,  6.7644],\n",
      "         ...,\n",
      "         [ 9.0739,  7.3360,  7.6733,  ...,  6.8926,  6.3890,  7.3290],\n",
      "         [ 8.6224,  7.6174,  8.7040,  ...,  7.4443,  6.0331,  7.7325],\n",
      "         [ 9.7500,  8.6522,  9.2833,  ...,  7.9703,  7.2328,  8.1322]],\n",
      "\n",
      "        [[ 9.9556,  6.6036,  7.0782,  ...,  8.1292,  9.3431,  6.3083],\n",
      "         [ 9.5323,  7.2920,  7.9704,  ...,  8.5156, 10.2552,  6.6679],\n",
      "         [10.0934,  7.1531,  7.5300,  ...,  8.1587,  9.8634,  7.1489],\n",
      "         ...,\n",
      "         [ 9.2665,  6.9366,  7.3289,  ...,  6.9212,  8.0394,  6.6308],\n",
      "         [ 9.3509,  7.0472,  7.0879,  ...,  7.2374,  8.3451,  6.3898],\n",
      "         [11.2872,  7.1949,  8.0831,  ...,  8.5932,  9.3162,  6.7905]],\n",
      "\n",
      "        ...,\n",
      "\n",
      "        [[ 6.2953,  8.1913,  8.0597,  ...,  7.6480,  6.3894,  6.2739],\n",
      "         [ 5.2122,  7.1350,  6.6124,  ...,  6.9003,  5.7094,  5.8085],\n",
      "         [ 7.2790,  9.1820,  9.2825,  ...,  9.7529,  7.0053,  7.5843],\n",
      "         ...,\n",
      "         [ 8.0208,  9.2249,  8.9846,  ..., 10.4041,  8.0214,  8.0492],\n",
      "         [ 7.2859,  8.8816,  8.4457,  ...,  9.8100,  7.3764,  7.3719],\n",
      "         [ 7.2193,  8.0350,  7.9923,  ...,  8.6592,  6.0741,  6.5693]],\n",
      "\n",
      "        [[ 7.5315,  9.3738,  7.7388,  ...,  8.0100,  8.4086,  7.9336],\n",
      "         [ 5.7071,  6.9144,  7.0845,  ...,  6.2006,  7.4190,  6.8421],\n",
      "         [ 6.2580,  7.5909,  7.6083,  ...,  7.1987,  7.6342,  7.4452],\n",
      "         ...,\n",
      "         [ 6.0966,  8.0992,  7.6427,  ...,  7.1097,  7.0951,  7.4420],\n",
      "         [ 6.2441,  8.6992,  7.4867,  ...,  6.9026,  8.0789,  6.9751],\n",
      "         [ 6.5086,  7.4158,  7.5226,  ...,  7.2084,  7.4785,  6.8393]],\n",
      "\n",
      "        [[ 7.3178,  5.6586,  6.7817,  ...,  6.1010,  6.1014,  8.5455],\n",
      "         [ 7.2329,  5.4088,  6.0841,  ...,  4.7693,  5.6270,  6.2397],\n",
      "         [ 8.6210,  7.5794,  6.1942,  ...,  6.2632,  6.9249,  8.5537],\n",
      "         ...,\n",
      "         [ 8.8962,  7.6079,  7.4026,  ...,  7.2994,  7.6644,  8.3479],\n",
      "         [ 9.4713,  6.4620,  7.9383,  ...,  7.4937,  7.2345,  8.8882],\n",
      "         [ 8.6400,  7.8870,  7.7706,  ...,  7.0218,  6.4470,  8.2932]]])\n"
     ]
    },
    {
     "data": {
      "text/plain": [
       "True"
      ]
     },
     "execution_count": 26,
     "metadata": {},
     "output_type": "execute_result"
    }
   ],
   "execution_count": 26
  },
  {
   "metadata": {
    "ExecuteTime": {
     "end_time": "2024-11-25T13:16:29.537826Z",
     "start_time": "2024-11-25T13:16:29.465535Z"
    }
   },
   "cell_type": "code",
   "source": "torch.equal(t1 @ t2t, torch.matmul(t1, t2t))",
   "id": "4a4234fa4cee370d",
   "outputs": [
    {
     "data": {
      "text/plain": [
       "True"
      ]
     },
     "execution_count": 27,
     "metadata": {},
     "output_type": "execute_result"
    }
   ],
   "execution_count": 27
  },
  {
   "metadata": {
    "ExecuteTime": {
     "end_time": "2024-11-25T13:19:08.436342Z",
     "start_time": "2024-11-25T13:19:08.425780Z"
    }
   },
   "cell_type": "code",
   "source": [
    "torch.equal(t1 * t2, torch.mul(t1, t2))\n",
    "print(torch.mul(t1,t2).shape)\n",
    "print(torch.matmul(t1,t2t).shape)\n"
   ],
   "id": "3f0d44103ed1eb55",
   "outputs": [
    {
     "name": "stdout",
     "output_type": "stream",
     "text": [
      "torch.Size([100, 20, 30])\n",
      "torch.Size([100, 20, 20])\n"
     ]
    }
   ],
   "execution_count": 37
  },
  {
   "metadata": {
    "ExecuteTime": {
     "end_time": "2024-11-25T13:20:22.884905Z",
     "start_time": "2024-11-25T13:20:22.878380Z"
    }
   },
   "cell_type": "code",
   "source": [
    "t2t = t2.transpose(1, 2)\n",
    "print(t2t.shape)\n",
    "print((t1 @ t2t).shape)"
   ],
   "id": "c6c0d3288fb9f056",
   "outputs": [
    {
     "name": "stdout",
     "output_type": "stream",
     "text": [
      "torch.Size([100, 30, 20])\n",
      "torch.Size([100, 20, 20])\n"
     ]
    }
   ],
   "execution_count": 38
  },
  {
   "metadata": {
    "ExecuteTime": {
     "end_time": "2024-11-25T13:20:38.715593Z",
     "start_time": "2024-11-25T13:20:38.705688Z"
    }
   },
   "cell_type": "code",
   "source": "torch.equal(t1 @ t2t, torch.bmm(t1, t2t))",
   "id": "7372ff40ead95c9",
   "outputs": [
    {
     "data": {
      "text/plain": [
       "True"
      ]
     },
     "execution_count": 39,
     "metadata": {},
     "output_type": "execute_result"
    }
   ],
   "execution_count": 39
  },
  {
   "metadata": {
    "ExecuteTime": {
     "end_time": "2024-11-25T13:20:49.432468Z",
     "start_time": "2024-11-25T13:20:49.424036Z"
    }
   },
   "cell_type": "code",
   "source": "torch.equal(t1 @ t2t, torch.matmul(t1, t2t))",
   "id": "ac9f8d02eeebe86",
   "outputs": [
    {
     "data": {
      "text/plain": [
       "True"
      ]
     },
     "execution_count": 40,
     "metadata": {},
     "output_type": "execute_result"
    }
   ],
   "execution_count": 40
  },
  {
   "metadata": {
    "ExecuteTime": {
     "end_time": "2024-11-26T19:18:53.154369Z",
     "start_time": "2024-11-26T19:18:53.144206Z"
    }
   },
   "cell_type": "code",
   "source": [
    "import torch\n",
    "print(torch.cuda.is_available())  # Pentru Nvidia\n",
    "print(torch.backends.mps.is_available())  # Pentru Apple Silicon (dacă ai Mac)\n",
    "print(torch.backends.mps.is_built())  # Dacă ROCm este disponibil pentru AMD\n"
   ],
   "id": "9fd7b5ef7868e792",
   "outputs": [
    {
     "name": "stdout",
     "output_type": "stream",
     "text": [
      "False\n",
      "False\n",
      "False\n"
     ]
    }
   ],
   "execution_count": 42
  },
  {
   "metadata": {},
   "cell_type": "code",
   "outputs": [],
   "execution_count": null,
   "source": "",
   "id": "d921912273bb0cac"
  }
 ],
 "metadata": {
  "kernelspec": {
   "display_name": "Python 3",
   "language": "python",
   "name": "python3"
  },
  "language_info": {
   "codemirror_mode": {
    "name": "ipython",
    "version": 2
   },
   "file_extension": ".py",
   "mimetype": "text/x-python",
   "name": "python",
   "nbconvert_exporter": "python",
   "pygments_lexer": "ipython2",
   "version": "2.7.6"
  }
 },
 "nbformat": 4,
 "nbformat_minor": 5
}
